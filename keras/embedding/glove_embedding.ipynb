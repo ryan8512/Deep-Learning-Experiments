{
 "cells": [
  {
   "cell_type": "markdown",
   "metadata": {},
   "source": [
    "## GloVe embedding \n",
    "\n",
    "Download GloVe pre-trained embedding glove.6B.zip from: https://nlp.stanford.edu/projects/glove/"
   ]
  },
  {
   "cell_type": "code",
   "execution_count": 187,
   "metadata": {},
   "outputs": [],
   "source": [
    "from __future__ import absolute_import\n",
    "from __future__ import division\n",
    "from __future__ import print_function\n",
    "\n",
    "import numpy as np"
   ]
  },
  {
   "cell_type": "code",
   "execution_count": 188,
   "metadata": {},
   "outputs": [
    {
     "name": "stdout",
     "output_type": "stream",
     "text": [
      "Loaded 400000 word vectors.\n"
     ]
    }
   ],
   "source": [
    "# load the whole embedding into memory\n",
    "embeddings = dict()\n",
    "f = open('glove.6B.200d.txt')\n",
    "for line in f:\n",
    "    values = line.split()\n",
    "    word = values[0]\n",
    "    embedding = np.array(values[1:], dtype='float32')\n",
    "    embeddings[word] = embedding\n",
    "f.close()\n",
    "print('Loaded %s word vectors.' % len(embeddings))"
   ]
  },
  {
   "cell_type": "code",
   "execution_count": 183,
   "metadata": {},
   "outputs": [],
   "source": [
    "x = embeddings['tokyo']\n",
    "# print(x)"
   ]
  },
  {
   "cell_type": "code",
   "execution_count": 184,
   "metadata": {},
   "outputs": [],
   "source": [
    "y = embeddings['japan']\n",
    "# print(y)"
   ]
  },
  {
   "cell_type": "code",
   "execution_count": 185,
   "metadata": {},
   "outputs": [],
   "source": [
    "z = embeddings['philippines']\n",
    "# print(z)"
   ]
  },
  {
   "cell_type": "code",
   "execution_count": 186,
   "metadata": {},
   "outputs": [
    {
     "name": "stdout",
     "output_type": "stream",
     "text": [
      "Similarity:  9.526834 Prediction:  the\n",
      "Similarity:  10.322602 Prediction:  to\n",
      "Similarity:  13.463337 Prediction:  in\n",
      "Similarity:  13.7616415 Prediction:  percent\n",
      "Similarity:  17.249172 Prediction:  city\n",
      "Similarity:  17.922836 Prediction:  tuesday\n",
      "Similarity:  18.036158 Prediction:  monday\n",
      "Similarity:  19.789293 Prediction:  capital\n",
      "Similarity:  19.830156 Prediction:  stock\n",
      "Similarity:  23.128948 Prediction:  index\n",
      "Similarity:  23.85015 Prediction:  kong\n",
      "Similarity:  25.977638 Prediction:  singapore\n",
      "Similarity:  31.737885 Prediction:  tokyo\n",
      "Similarity:  35.238342 Prediction:  philippine\n",
      "Similarity:  40.02065 Prediction:  manila\n"
     ]
    }
   ],
   "source": [
    "x = np.subtract(x, y)\n",
    "x = np.add(x, z)\n",
    "predict = None\n",
    "max_similarity = 0\n",
    "for word, embedding in embeddings.items():\n",
    "    y = np.array(embedding)\n",
    "    similarity = np.dot(x, y)\n",
    "    if similarity > max_similarity:\n",
    "        predict = word\n",
    "        print(\"Similarity: \", similarity, \"Prediction: \", word)\n",
    "        max_similarity = similarity"
   ]
  },
  {
   "cell_type": "code",
   "execution_count": null,
   "metadata": {},
   "outputs": [],
   "source": []
  }
 ],
 "metadata": {
  "kernelspec": {
   "display_name": "Python 3",
   "language": "python",
   "name": "python3"
  },
  "language_info": {
   "codemirror_mode": {
    "name": "ipython",
    "version": 3
   },
   "file_extension": ".py",
   "mimetype": "text/x-python",
   "name": "python",
   "nbconvert_exporter": "python",
   "pygments_lexer": "ipython3",
   "version": "3.6.3"
  }
 },
 "nbformat": 4,
 "nbformat_minor": 2
}
